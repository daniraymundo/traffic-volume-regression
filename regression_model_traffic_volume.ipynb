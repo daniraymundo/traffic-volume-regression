{
  "nbformat": 4,
  "nbformat_minor": 0,
  "metadata": {
    "colab": {
      "provenance": [],
      "gpuType": "T4",
      "include_colab_link": true
    },
    "kernelspec": {
      "name": "python3",
      "display_name": "Python 3"
    },
    "language_info": {
      "name": "python"
    },
    "accelerator": "GPU"
  },
  "cells": [
    {
      "cell_type": "markdown",
      "metadata": {
        "id": "view-in-github",
        "colab_type": "text"
      },
      "source": [
        "<a href=\"https://colab.research.google.com/github/daniraymundo/traffic-volume-regression/blob/main/regression_model_traffic_volume.ipynb\" target=\"_parent\"><img src=\"https://colab.research.google.com/assets/colab-badge.svg\" alt=\"Open In Colab\"/></a>"
      ]
    },
    {
      "cell_type": "markdown",
      "source": [
        "# Installing PyCaret and necessary libraries and loading the data"
      ],
      "metadata": {
        "id": "_Mip3wP8GYHF"
      }
    },
    {
      "cell_type": "code",
      "source": [
        "# Install the PyCaret library\n",
        "!pip install pycaret --quiet"
      ],
      "metadata": {
        "collapsed": true,
        "id": "5MzqvXo0sNqT"
      },
      "execution_count": null,
      "outputs": []
    },
    {
      "cell_type": "code",
      "source": [
        "import pandas as pd\n",
        "import matplotlib.pyplot as plt\n",
        "import seaborn as sns"
      ],
      "metadata": {
        "id": "uQdla9pJtjzI"
      },
      "execution_count": null,
      "outputs": []
    },
    {
      "cell_type": "code",
      "source": [
        "# Load the traffic dataset and check the first 5 rows\n",
        "from pycaret.datasets import get_data\n",
        "dataset = get_data('traffic')\n",
        "dataset.head()"
      ],
      "metadata": {
        "collapsed": true,
        "id": "bxn7XlFQwHQ9"
      },
      "execution_count": null,
      "outputs": []
    },
    {
      "cell_type": "markdown",
      "source": [
        "# Data exploration and pre-processing"
      ],
      "metadata": {
        "id": "5zX5jSyiyUtX"
      }
    },
    {
      "cell_type": "code",
      "source": [
        "dataset.info()"
      ],
      "metadata": {
        "id": "x8X1_kYj3USD"
      },
      "execution_count": null,
      "outputs": []
    },
    {
      "cell_type": "code",
      "source": [
        "# Check the shape of data\n",
        "dataset.shape"
      ],
      "metadata": {
        "id": "95_wQYgxyW0w"
      },
      "execution_count": null,
      "outputs": []
    },
    {
      "cell_type": "code",
      "source": [
        "# Check for duplicates\n",
        "dataset.duplicated().sum()"
      ],
      "metadata": {
        "id": "fOO_0TgLpaEd"
      },
      "execution_count": null,
      "outputs": []
    },
    {
      "cell_type": "code",
      "source": [
        "# Remove duplicates\n",
        "dataset=dataset.drop_duplicates()\n",
        "dataset.shape"
      ],
      "metadata": {
        "id": "B4d2EyFWpeNM"
      },
      "execution_count": null,
      "outputs": []
    },
    {
      "cell_type": "code",
      "source": [
        "# Check for missing values per column\n",
        "dataset.isnull().sum()"
      ],
      "metadata": {
        "id": "iVUE_lIqpjRC"
      },
      "execution_count": null,
      "outputs": []
    },
    {
      "cell_type": "code",
      "source": [
        "# Check unique values of the holiday column\n",
        "dataset['holiday'].unique()"
      ],
      "metadata": {
        "id": "9t_YimNg3F_c"
      },
      "execution_count": null,
      "outputs": []
    },
    {
      "cell_type": "code",
      "source": [
        "# Replace all non-null values in the holiday column with 1, else 0\n",
        "dataset['holiday'] = dataset['holiday'].notnull().astype(int)"
      ],
      "metadata": {
        "id": "OxPzzN8EJhAt"
      },
      "execution_count": null,
      "outputs": []
    },
    {
      "cell_type": "code",
      "source": [
        "# Verify the changes by checking the unique values in the holiday column and their counts\n",
        "dataset['holiday'].value_counts()"
      ],
      "metadata": {
        "id": "7ipKLu9cKPaB"
      },
      "execution_count": null,
      "outputs": []
    },
    {
      "cell_type": "code",
      "source": [
        "# Rename columns\n",
        "dataset = dataset.rename(columns={'holiday': 'is_holiday', 'Rush Hour': 'is_rush_hour'})\n",
        "\n",
        "# Display the first 5 rows to verify the changes\n",
        "dataset.head()\n"
      ],
      "metadata": {
        "id": "S9-MDfgZjhWT"
      },
      "execution_count": null,
      "outputs": []
    },
    {
      "cell_type": "code",
      "source": [
        "# Check the statistical distribution of data\n",
        "dataset.describe()"
      ],
      "metadata": {
        "id": "ll0c_SOvpnkx"
      },
      "execution_count": null,
      "outputs": []
    },
    {
      "cell_type": "code",
      "source": [
        "# Check the value counts of rain levels\n",
        "dataset['rain_1h'].value_counts(normalize=True)"
      ],
      "metadata": {
        "id": "kXPw-VUJT1uT"
      },
      "execution_count": null,
      "outputs": []
    },
    {
      "cell_type": "code",
      "source": [
        "# Check the frequency of snow levels\n",
        "dataset['snow_1h'].value_counts(normalize=True)"
      ],
      "metadata": {
        "id": "BLk9UqYrDfVe"
      },
      "execution_count": null,
      "outputs": []
    },
    {
      "cell_type": "code",
      "source": [
        "# Convert rain_1h and snow_1h to binary: 1 if any value > 0, else 0 to simplify the model since > 90% of values are 0\n",
        "dataset['rain_1h'] = (dataset['rain_1h'] > 0).astype(int)\n",
        "dataset['snow_1h'] = (dataset['snow_1h'] > 0).astype(int)"
      ],
      "metadata": {
        "id": "aU6ec79pUIAf"
      },
      "execution_count": null,
      "outputs": []
    },
    {
      "cell_type": "code",
      "source": [
        "# Re-categorize weather conditions to 3 categories for simplicity\n",
        "\n",
        "# Define a dictionary to categorize the weather conditions\n",
        "weather_mapping = {\n",
        "    'Clear': 'Normal',\n",
        "    'Clouds': 'Normal',\n",
        "    'Rain': 'Precipitation',\n",
        "    'Drizzle': 'Precipitation',\n",
        "    'Thunderstorm': 'Precipitation',\n",
        "    'Snow': 'Precipitation',\n",
        "    'Squall': 'Precipitation',\n",
        "    'Mist': 'Low_Visibility',\n",
        "    'Haze': 'Low_Visibility',\n",
        "    'Fog': 'Low_Visibility',\n",
        "    'Smoke': 'Low_Visibility'\n",
        "}\n",
        "\n",
        "# Apply the mapping to the 'weather_main' column\n",
        "dataset['weather_category'] = dataset['weather_main'].map(weather_mapping)\n",
        "\n",
        "# Check the new categories\n",
        "print(dataset[['weather_main', 'weather_category']].tail(50))"
      ],
      "metadata": {
        "id": "DYR5ZtPe92K3"
      },
      "execution_count": null,
      "outputs": []
    },
    {
      "cell_type": "code",
      "source": [
        "# Check lowest values of the target\n",
        "dataset['traffic_volume'].value_counts().sort_index().head(50)"
      ],
      "metadata": {
        "id": "px4s53C8O1Mi"
      },
      "execution_count": null,
      "outputs": []
    },
    {
      "cell_type": "code",
      "source": [
        "# Plot the distribution of traffic_volume\n",
        "\n",
        "plt.figure(figsize=(8, 6))\n",
        "sns.boxplot(x=dataset['traffic_volume'])\n",
        "plt.title('Boxplot of Traffic Volume')\n",
        "plt.show()\n"
      ],
      "metadata": {
        "id": "qBnY5lPojwU3"
      },
      "execution_count": null,
      "outputs": []
    },
    {
      "cell_type": "code",
      "source": [
        "# Create a copy of the dataset\n",
        "data1=dataset.copy()"
      ],
      "metadata": {
        "id": "z2DTQDx4zTY-"
      },
      "execution_count": null,
      "outputs": []
    },
    {
      "cell_type": "code",
      "source": [
        "# Count rows where traffic_volume is less than or equal to 1000\n",
        "len(data1[data1['traffic_volume'] <= 1000])\n"
      ],
      "metadata": {
        "id": "bwvol5kA0Rks"
      },
      "execution_count": null,
      "outputs": []
    },
    {
      "cell_type": "code",
      "source": [
        "# Define bins and bin labels for traffic volume\n",
        "bins = [0, 1000, 3000, 5000, 7500]\n",
        "labels = ['0–1000 (Low)', '1001–3000 (Moderate)', '3001–5000 (Busy)', '5001+ (Very Busy)']\n",
        "\n",
        "# Bin the traffic volume\n",
        "data1['traffic_volume_bin'] = pd.cut(data1['traffic_volume'], bins=bins, labels=labels, right=True, include_lowest=True)\n",
        "\n",
        "# Calculate distribution\n",
        "distribution = data1['traffic_volume_bin'].value_counts().sort_index()\n",
        "\n",
        "distribution1 = data1['traffic_volume_bin'].value_counts(normalize=True).sort_index() * 100\n",
        "\n",
        "# Display the result\n",
        "distribution_df = pd.DataFrame({\n",
        "    'Traffic Volume Range': distribution.index,\n",
        "    'Count' : distribution.values,\n",
        "    'Percentage of Hours (%)': distribution1.values\n",
        "})\n",
        "\n",
        "(distribution_df)"
      ],
      "metadata": {
        "id": "qr-ZmK-czG12"
      },
      "execution_count": null,
      "outputs": []
    },
    {
      "cell_type": "code",
      "source": [
        "# Plot counts of binned traffic volume\n",
        "\n",
        "plt.figure(figsize=(10, 6))\n",
        "sns.countplot(x='traffic_volume_bin', data=data1)\n",
        "plt.title('Distribution of Traffic Volume Categories')\n",
        "plt.xlabel('Traffic Volume Category')\n",
        "plt.ylabel('Number of Hours')\n",
        "plt.xticks(rotation=45, ha='right')\n",
        "plt.show()\n"
      ],
      "metadata": {
        "id": "C2BD3nEN2639"
      },
      "execution_count": null,
      "outputs": []
    },
    {
      "cell_type": "code",
      "source": [
        "# Filter the dataset to exclude observations where traffic volume <= 1000\n",
        "filtered_data = dataset[dataset['traffic_volume'] > 1000].copy()\n",
        "\n",
        "# Print the shape to show the changes\n",
        "print(f\"Original data size: {dataset.shape}\")\n",
        "print(f\"Filtered data size: {filtered_data.shape}\")"
      ],
      "metadata": {
        "id": "glTOWJXa1voF"
      },
      "execution_count": null,
      "outputs": []
    },
    {
      "cell_type": "code",
      "source": [
        "# Check info\n",
        "filtered_data.info()"
      ],
      "metadata": {
        "id": "AEJC0nNtpzTl"
      },
      "execution_count": null,
      "outputs": []
    },
    {
      "cell_type": "code",
      "source": [
        "# Check the updated descriptive statistics of the filtered dataset\n",
        "filtered_data.describe()"
      ],
      "metadata": {
        "id": "9zbAwC7IM9UO"
      },
      "execution_count": null,
      "outputs": []
    },
    {
      "cell_type": "code",
      "source": [
        "# Plot histogram of the original dataset and filtered dataset to visualize changes in the distribution\n",
        "\n",
        "plt.figure(figsize=(12, 6))\n",
        "\n",
        "plt.subplot(1, 2, 1)\n",
        "sns.histplot(dataset['traffic_volume'], bins=20, kde=True)\n",
        "plt.title('Traffic Volume Histogram (Original Dataset)')\n",
        "plt.xlabel('Traffic Volume')\n",
        "plt.ylabel('Frequency')\n",
        "\n",
        "plt.subplot(1, 2, 2)\n",
        "sns.histplot(filtered_data['traffic_volume'], bins= 20, kde=True)\n",
        "plt.title('Traffic Volume Histogram (Filtered Dataset)')\n",
        "plt.xlabel('Traffic Volume')\n",
        "plt.ylabel('Frequency')\n",
        "\n",
        "plt.tight_layout()\n",
        "plt.show()\n"
      ],
      "metadata": {
        "id": "x4z8y9Qf3fiI"
      },
      "execution_count": null,
      "outputs": []
    },
    {
      "cell_type": "markdown",
      "source": [
        "# Sampling 5% of data as unseen data"
      ],
      "metadata": {
        "id": "znXsn_xfznCi"
      }
    },
    {
      "cell_type": "code",
      "source": [
        "# Sample 5% of data as unseen data\n",
        "data = filtered_data.sample(frac=0.95, random_state=42 )\n",
        "data_unseen = filtered_data.drop(data.index)\n",
        "data.reset_index(inplace=True, drop=True)\n",
        "data_unseen.reset_index(inplace=True, drop=True)"
      ],
      "metadata": {
        "id": "T2ugM_T90Hy4"
      },
      "execution_count": null,
      "outputs": []
    },
    {
      "cell_type": "markdown",
      "source": [
        "# Setting up the environment in PyCaret"
      ],
      "metadata": {
        "id": "AkrJpIXTZlVS"
      }
    },
    {
      "cell_type": "code",
      "source": [
        "# Initialize setup\n",
        "from pycaret.regression import *\n",
        "setup(data = filtered_data,\n",
        "          target = 'traffic_volume',\n",
        "          categorical_features=['is_holiday', 'is_rush_hour', 'rain_1h', 'snow_1h'],\n",
        "          numeric_features=['temp', 'clouds_all'],\n",
        "          ordinal_features={'weather_category' : ['Normal', 'Low_Visibility', 'Precipitation']},\n",
        "          ignore_features=['weather_main'],\n",
        "          remove_outliers=True,\n",
        "          remove_multicollinearity=True,\n",
        "          normalize=True,\n",
        "          normalize_method='minmax',\n",
        "          session_id = 123)"
      ],
      "metadata": {
        "id": "j9Wb9bAOZrHw"
      },
      "execution_count": null,
      "outputs": []
    },
    {
      "cell_type": "code",
      "source": [
        "# Display the variables created during setup\n",
        "get_config()"
      ],
      "metadata": {
        "id": "4EMZbJbYEO_H"
      },
      "execution_count": null,
      "outputs": []
    },
    {
      "cell_type": "code",
      "source": [
        "# View the transformed dataset after setup\n",
        "get_config('dataset_transformed').head(10)"
      ],
      "metadata": {
        "id": "YuQy6Q6gERzJ"
      },
      "execution_count": null,
      "outputs": []
    },
    {
      "cell_type": "code",
      "source": [
        "# Show info of the transformed dataset\n",
        "get_config('dataset_transformed').info()"
      ],
      "metadata": {
        "id": "SHXOhbvM39_K"
      },
      "execution_count": null,
      "outputs": []
    },
    {
      "cell_type": "code",
      "source": [
        "# Display the descriptive statistics of the transformed dataset\n",
        "get_config('dataset_transformed').describe()"
      ],
      "metadata": {
        "id": "bKN-nt42K56r"
      },
      "execution_count": null,
      "outputs": []
    },
    {
      "cell_type": "markdown",
      "source": [
        "# Evaluating different models"
      ],
      "metadata": {
        "id": "tr7cGvwhnyXj"
      }
    },
    {
      "cell_type": "code",
      "source": [
        "# Compare the different models\n",
        "best_model = compare_models(sort='MAPE')"
      ],
      "metadata": {
        "id": "xMhh1rFJdZwY"
      },
      "execution_count": null,
      "outputs": []
    },
    {
      "cell_type": "markdown",
      "source": [
        "# Creating the model"
      ],
      "metadata": {
        "id": "2K6ySxqEfEL4"
      }
    },
    {
      "cell_type": "code",
      "source": [
        "# Create the lightgbm model (chosen for best overall metrics)\n",
        "lightgbm = create_model('lightgbm')"
      ],
      "metadata": {
        "id": "EoBXrKF1fst5"
      },
      "execution_count": null,
      "outputs": []
    },
    {
      "cell_type": "code",
      "source": [
        "# Create the rf model (chosen for lowest MAPE)\n",
        "rf = create_model('rf')"
      ],
      "metadata": {
        "id": "hgOIBENMfVLs"
      },
      "execution_count": null,
      "outputs": []
    },
    {
      "cell_type": "markdown",
      "source": [
        "# Tuning the model"
      ],
      "metadata": {
        "id": "a6DJP1r7o34k"
      }
    },
    {
      "cell_type": "code",
      "source": [
        "# Tune the model\n",
        "tuned_lightgbm = tune_model(lightgbm,\n",
        "                            optimize='MAPE')"
      ],
      "metadata": {
        "id": "CK_YfiSIo58-"
      },
      "execution_count": null,
      "outputs": []
    },
    {
      "cell_type": "code",
      "source": [
        "tuned_rf=tune_model(rf,\n",
        "                    optimize='MAPE',\n",
        "                    fold=5)"
      ],
      "metadata": {
        "id": "w1mSmpxeieVp"
      },
      "execution_count": null,
      "outputs": []
    },
    {
      "cell_type": "markdown",
      "source": [
        "# Blending the top 2 models"
      ],
      "metadata": {
        "id": "icYxfyOdmzNe"
      }
    },
    {
      "cell_type": "code",
      "source": [
        "blended_model = blend_models(estimator_list=[tuned_lightgbm, rf], optimize='MAPE')"
      ],
      "metadata": {
        "id": "WWM57TRTfkLT"
      },
      "execution_count": null,
      "outputs": []
    },
    {
      "cell_type": "markdown",
      "source": [
        "# Evaluation and Visualization"
      ],
      "metadata": {
        "id": "0HRdEeKQy6ud"
      }
    },
    {
      "cell_type": "code",
      "source": [
        "# Evaluate the blended model\n",
        "evaluate_model(blended_model)"
      ],
      "metadata": {
        "id": "yupsLe6azEKw"
      },
      "execution_count": null,
      "outputs": []
    },
    {
      "cell_type": "code",
      "source": [
        "# Plot feature importance of lightgbm\n",
        "plot_model(tuned_lightgbm, plot='feature')"
      ],
      "metadata": {
        "id": "6Rq6hJab7Z7J"
      },
      "execution_count": null,
      "outputs": []
    },
    {
      "cell_type": "code",
      "source": [
        "# Plot feature importance of rf\n",
        "plot_model(rf, plot='feature')"
      ],
      "metadata": {
        "id": "6BxlG9Zx_o4E"
      },
      "execution_count": null,
      "outputs": []
    },
    {
      "cell_type": "markdown",
      "source": [
        "# Making predictions"
      ],
      "metadata": {
        "id": "6paRp2ZdzHOn"
      }
    },
    {
      "cell_type": "code",
      "source": [
        "# Finalize the model and predict on the unseen data\n",
        "final_model = finalize_model(blended_model) # Retrains on entire training data\n",
        "predictions= predict_model(final_model, data=data_unseen)"
      ],
      "metadata": {
        "id": "Cwu3MGPeoo7C"
      },
      "execution_count": null,
      "outputs": []
    },
    {
      "cell_type": "code",
      "source": [
        "# Display the first few rows of the data containing predictions\n",
        "predictions.head(10)"
      ],
      "metadata": {
        "id": "vNGR5QO9pAMy"
      },
      "execution_count": null,
      "outputs": []
    },
    {
      "cell_type": "code",
      "source": [
        "# Plot actual traffic volume vs predicted traffic volume\n",
        "\n",
        "plt.figure(figsize=(10, 6))\n",
        "plt.scatter(predictions['traffic_volume'], predictions['prediction_label'])\n",
        "plt.xlabel('Traffic Volume')\n",
        "plt.ylabel('Predicted Traffic Volume')\n",
        "plt.title('Traffic Volume vs. Prediction')\n",
        "plt.show()\n"
      ],
      "metadata": {
        "id": "ebT-CydnKcxd"
      },
      "execution_count": null,
      "outputs": []
    }
  ]
}